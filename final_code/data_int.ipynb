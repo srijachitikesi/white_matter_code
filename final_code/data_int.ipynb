{
 "cells": [
  {
   "cell_type": "code",
   "execution_count": 1,
   "metadata": {},
   "outputs": [],
   "source": [
    "# #my test code\n",
    "# #testing \n",
    "# test_loss = 0\n",
    "# actual_batch_values_test = []\n",
    "# predicted_batch_values_test = []\n",
    "# gradients_list = []  # Store gradients for each sample in the test set\n",
    "\n",
    "\n",
    "# # with torch.no_grad():\n",
    "# # with autocast(device_type='cuda', dtype=torch.float16):\n",
    "# # with autocast(device_type=device.type):\n",
    "# for X, y in test_loader:\n",
    "#     X, y = X.to(device).float(), y.to(device).float()\n",
    "#     X = torch.unsqueeze(X, 1).float()\n",
    "#     X.requires_grad = True  \n",
    "\n",
    "\n",
    "#     pred = model(X)\n",
    "#     pred = pred.squeeze()\n",
    "#     loss = criterion(pred, y)\n",
    "#     test_loss += (loss.item() * X.shape[0])\n",
    "#     if pred.dim() > 0:\n",
    "#         actual_batch_values_test.extend(y.cpu().numpy())\n",
    "#         predicted_batch_values_test.extend(pred.cpu().detach().numpy())\n",
    "#         model.zero_grad()  \n",
    "#         pred.sum().backward()  # Compute gradients\n",
    "#         gradients = X.grad.detach()\n",
    "#         input_gradients = X.detach() * gradients  \n",
    "#         input_gradients_np = input_gradients.cpu().numpy()\n",
    "#         gradients_np = gradients.cpu().numpy()\n",
    "\n",
    "\n",
    "#         gradients_list.append(gradients_np)\n",
    "#         input_gradients_list.append(input_gradients_np)\n",
    "\n",
    "#         gradients_list.append(gradients_np)\n",
    "#         input_gradients_list.append(input_gradients_np)\n",
    "\n",
    "\n",
    "\n",
    "# avg_test_loss = test_loss / len(data.test_idx)\n",
    "# test_metrics = calculate_metrics(actual_batch_values_test, predicted_batch_values_test)\n",
    "# print(f\"Average test loss: {avg_test_loss}\")\n",
    "# print(f\"Epoch {e}/{epochs} - Average test loss: {avg_test_loss} - R2: {test_metrics['r2 score']:.4f}, EV: {test_metrics['ev']:.4f}, Correlation: {test_metrics['correlation']:.4f}\")\n",
    "\n",
    "\n",
    "# # Concatenate and save input-gradient products\n",
    "# input_gradients_array = np.concatenate(input_gradients_list, axis=0)\n",
    "# np.save(f\"input_gradients_fold_{fold}.npy\", input_gradients_array)\n",
    "# print(f\"Saved input-gradient products for fold {fold} to input_gradients_fold_{fold}.npy\")"
   ]
  },
  {
   "cell_type": "code",
   "execution_count": 1,
   "metadata": {},
   "outputs": [],
   "source": [
    "import numpy as np"
   ]
  },
  {
   "cell_type": "code",
   "execution_count": 2,
   "metadata": {},
   "outputs": [],
   "source": [
    "brain_gradients = np.load('input_gradients_Brain_256_0.2_1e-05_1e-05_fold_0.npy')"
   ]
  },
  {
   "cell_type": "code",
   "execution_count": 4,
   "metadata": {},
   "outputs": [],
   "source": [
    "import pickle\n",
    "\n",
    "# Save brain_gradients to a file\n",
    "with open('brain_gradients.pkl', 'wb') as f:\n",
    "    pickle.dump(brain_gradients, f)"
   ]
  },
  {
   "cell_type": "code",
   "execution_count": null,
   "metadata": {},
   "outputs": [],
   "source": [
    "# import pickle\n",
    "\n",
    "# # Load brain_gradients from the file\n",
    "# with open('brain_gradients.pkl', 'rb') as f:\n",
    "#     brain_gradients = pickle.load(f)\n",
    "\n",
    "# # Now, you can run just `brain_gradients` to see its content\n",
    "# brain_gradients"
   ]
  },
  {
   "cell_type": "code",
   "execution_count": 3,
   "metadata": {},
   "outputs": [],
   "source": [
    "mean_brain_gradients = np.mean(brain_gradients, axis=0)\n",
    "\n",
    "mean_gradients_abs = np.abs(mean_brain_gradients)\n",
    "mean_gradients_abs = mean_gradients_abs.squeeze(0)"
   ]
  },
  {
   "cell_type": "code",
   "execution_count": 4,
   "metadata": {},
   "outputs": [],
   "source": [
    "from sklearn.discriminant_analysis import StandardScaler\n",
    "\n",
    "scaler = StandardScaler()\n",
    "mean_gradients_normalized = scaler.fit_transform(mean_gradients_abs.reshape(-1, 1)).reshape(mean_gradients_abs.shape)\n"
   ]
  },
  {
   "cell_type": "code",
   "execution_count": 5,
   "metadata": {},
   "outputs": [],
   "source": [
    "overlay_data = mean_gradients_normalized"
   ]
  },
  {
   "cell_type": "code",
   "execution_count": 6,
   "metadata": {},
   "outputs": [
    {
     "name": "stdout",
     "output_type": "stream",
     "text": [
      "NIfTI file 'cbcl_brain_mean_gradients_normalized_finalised.nii' has been created.\n"
     ]
    },
    {
     "ename": "",
     "evalue": "",
     "output_type": "error",
     "traceback": [
      "\u001b[1;31mThe Kernel crashed while executing code in the current cell or a previous cell. \n",
      "\u001b[1;31mPlease review the code in the cell(s) to identify a possible cause of the failure. \n",
      "\u001b[1;31mClick <a href='https://aka.ms/vscodeJupyterKernelCrash'>here</a> for more info. \n",
      "\u001b[1;31mView Jupyter <a href='command:jupyter.viewOutput'>log</a> for further details."
     ]
    }
   ],
   "source": [
    "import nibabel as nib\n",
    "import numpy as np\n",
    "\n",
    "reference_img = nib.load('/data/neuromark2/Data/ABCD/DTI_Data_BIDS/Raw_Data/NDARINV00R4TXET/Baseline/dti/dti_FA/tbdti32ch_FA.nii.gz')\n",
    "affine = reference_img.affine\n",
    "\n",
    "nii_image = nib.Nifti1Image(overlay_data, affine)\n",
    "\n",
    "nib.save(nii_image, 'cbcl_brain_mean_gradients_normalized_finalised.nii')\n",
    "\n",
    "print(\"NIfTI file 'cbcl_brain_mean_gradients_normalized_finalised.nii' has been created.\")"
   ]
  },
  {
   "cell_type": "code",
   "execution_count": 5,
   "metadata": {},
   "outputs": [
    {
     "name": "stdout",
     "output_type": "stream",
     "text": [
      "Mask saved to /data/users1/schitikesi1/CBCL/brain_mask.nii\n"
     ]
    }
   ],
   "source": [
    "import nibabel as nib\n",
    "import numpy as np\n",
    "from scipy import ndimage\n",
    "import matplotlib.pyplot as plt\n",
    "\n",
    "# Step 1: Load the brain image\n",
    "img_path = '/data/neuromark2/Data/ABCD/DTI_Data_BIDS/Raw_Data/NDARINV00R4TXET/Baseline/dti/dti_FA/tbdti32ch_FA.nii.gz'  # Replace with your file path\n",
    "img = nib.load(img_path)\n",
    "data = img.get_fdata()\n",
    "\n",
    "# Step 2: Apply thresholding to create the mask\n",
    "threshold = 0 # Adjust this value as needed\n",
    "mask = (data > threshold).astype(np.uint8)\n",
    "\n",
    "# Step 3: Post-processing to clean up the mask\n",
    "# Apply binary closing to remove small holes and smooth the mask\n",
    "mask = ndimage.binary_closing(mask, structure=np.ones((3, 3, 3))).astype(np.uint8)\n",
    "\n",
    "# Step 4: Save the mask as a new NIfTI file\n",
    "mask_img = nib.Nifti1Image(mask, img.affine, img.header)\n",
    "output_path = '/data/users1/schitikesi1/CBCL/brain_mask.nii'  # Replace with your desired output path\n",
    "nib.save(mask_img, output_path)\n",
    "\n",
    "print(f'Mask saved to {output_path}')"
   ]
  },
  {
   "cell_type": "code",
   "execution_count": 6,
   "metadata": {},
   "outputs": [
    {
     "name": "stderr",
     "output_type": "stream",
     "text": [
      "/home/users/schitikesi1/miniconda3/lib/python3.11/site-packages/numpy/core/fromnumeric.py:784: UserWarning: Warning: 'partition' will ignore the 'mask' of the MaskedArray.\n",
      "  a.partition(kth, axis=axis, kind=kind, order=order)\n"
     ]
    }
   ],
   "source": [
    "from nilearn.masking import unmask, apply_mask\n",
    "from nilearn import plotting\n",
    "\n",
    "img_1 = apply_mask('cbcl_brain_mean_gradients_normalized_finalised.nii', 'brain_mask.nii')\n",
    "img_1 = unmask(img_1, 'brain_mask.nii')\n",
    "\n",
    "\n",
    "plotting.view_img(img_1)\n",
    "\n",
    "img_1.to_filename('brain_cbcl.nii')"
   ]
  },
  {
   "cell_type": "markdown",
   "metadata": {},
   "source": [
    "#### FTP"
   ]
  },
  {
   "cell_type": "code",
   "execution_count": null,
   "metadata": {},
   "outputs": [],
   "source": [
    "FTP_gradients = np.load('input_gradients_FTP_256_0.3_1e-05_1e-05_fold_0.npy')"
   ]
  },
  {
   "cell_type": "code",
   "execution_count": null,
   "metadata": {},
   "outputs": [],
   "source": [
    "import pickle\n",
    "\n",
    "# Save FTP_gradients to a file\n",
    "with open('FTP_gradients.pkl', 'wb') as f:\n",
    "    pickle.dump(FTP_gradients, f)"
   ]
  },
  {
   "cell_type": "code",
   "execution_count": null,
   "metadata": {},
   "outputs": [],
   "source": [
    "# import pickle\n",
    "\n",
    "# # Load FTP_gradients from the file\n",
    "# with open('FTP_gradients.pkl', 'rb') as f:\n",
    "#     FTP_gradients = pickle.load(f)\n",
    "\n",
    "# # Now, you can run just `FTP_gradients` to see its content\n",
    "# FTP_gradients"
   ]
  },
  {
   "cell_type": "code",
   "execution_count": null,
   "metadata": {},
   "outputs": [],
   "source": [
    "mean_FTP_gradients = np.mean(FTP_gradients, axis=0)\n",
    "\n",
    "mean_gradients_abs = np.abs(mean_FTP_gradients)\n",
    "mean_gradients_abs = mean_gradients_abs.squeeze(0)"
   ]
  },
  {
   "cell_type": "code",
   "execution_count": null,
   "metadata": {},
   "outputs": [],
   "source": [
    "from sklearn.discriminant_analysis import StandardScaler\n",
    "\n",
    "scaler = StandardScaler()\n",
    "mean_gradients_normalized = scaler.fit_transform(mean_gradients_abs.reshape(-1, 1)).reshape(mean_gradients_abs.shape)"
   ]
  },
  {
   "cell_type": "code",
   "execution_count": null,
   "metadata": {},
   "outputs": [],
   "source": [
    "overlay_data = mean_gradients_normalized"
   ]
  },
  {
   "cell_type": "code",
   "execution_count": null,
   "metadata": {},
   "outputs": [],
   "source": [
    "import nibabel as nib\n",
    "import numpy as np\n",
    "\n",
    "reference_img = nib.load('/data/neuromark2/Data/ABCD/DTI_Data_BIDS/Raw_Data/NDARINV00R4TXET/Baseline/dti/dti_FA/tbdti32ch_FA.nii.gz')\n",
    "affine = reference_img.affine\n",
    "\n",
    "nii_image = nib.Nifti1Image(overlay_data, affine)\n",
    "\n",
    "nib.save(nii_image, 'cbcl_FTP_mean_gradients_normalized_finalised.nii')\n",
    "\n",
    "print(\"NIfTI file 'cbcl_FTP_mean_gradients_normalized_finalised.nii' has been created.\")"
   ]
  },
  {
   "cell_type": "markdown",
   "metadata": {},
   "source": [
    "#### CFP"
   ]
  },
  {
   "cell_type": "code",
   "execution_count": null,
   "metadata": {},
   "outputs": [],
   "source": [
    "CFP_gradients = np.load('input_gradients_CFP_256_0.3_0.0001_1e-05_fold_0.npy')"
   ]
  },
  {
   "cell_type": "code",
   "execution_count": null,
   "metadata": {},
   "outputs": [],
   "source": [
    "import pickle\n",
    "\n",
    "# Save CFP_gradients to a file\n",
    "with open('CFP_gradients.pkl', 'wb') as f:\n",
    "    pickle.dump(CFP_gradients, f)"
   ]
  },
  {
   "cell_type": "code",
   "execution_count": null,
   "metadata": {},
   "outputs": [],
   "source": [
    "# import pickle\n",
    "\n",
    "# # Load CFP_gradients from the file\n",
    "# with open('CFP_gradients.pkl', 'rb') as f:\n",
    "#     CFP_gradients = pickle.load(f)\n",
    "\n",
    "# # Now, you can run just `CFP_gradients` to see its content\n",
    "# CFP_gradients"
   ]
  },
  {
   "cell_type": "code",
   "execution_count": null,
   "metadata": {},
   "outputs": [],
   "source": [
    "mean_CFP_gradients = np.mean(CFP_gradients, axis=0)\n",
    "\n",
    "mean_gradients_abs = np.abs(mean_CFP_gradients)\n",
    "mean_gradients_abs = mean_gradients_abs.squeeze(0)"
   ]
  },
  {
   "cell_type": "code",
   "execution_count": null,
   "metadata": {},
   "outputs": [],
   "source": [
    "from sklearn.discriminant_analysis import StandardScaler\n",
    "\n",
    "scaler = StandardScaler()\n",
    "mean_gradients_normalized = scaler.fit_transform(mean_gradients_abs.reshape(-1, 1)).reshape(mean_gradients_abs.shape)"
   ]
  },
  {
   "cell_type": "code",
   "execution_count": null,
   "metadata": {},
   "outputs": [],
   "source": [
    "overlay_data = mean_gradients_normalized"
   ]
  },
  {
   "cell_type": "code",
   "execution_count": null,
   "metadata": {},
   "outputs": [],
   "source": [
    "import nibabel as nib\n",
    "import numpy as np\n",
    "\n",
    "reference_img = nib.load('/data/neuromark2/Data/ABCD/DTI_Data_BIDS/Raw_Data/NDARINV00R4TXET/Baseline/dti/dti_FA/tbdti32ch_FA.nii.gz')\n",
    "affine = reference_img.affine\n",
    "\n",
    "nii_image = nib.Nifti1Image(overlay_data, affine)\n",
    "\n",
    "nib.save(nii_image, 'cbcl_CFP_mean_gradients_normalized_finalised.nii')\n",
    "\n",
    "print(\"NIfTI file 'cbcl_CFP_mean_gradients_normalized_finalised.nii' has been created.\")"
   ]
  },
  {
   "cell_type": "markdown",
   "metadata": {},
   "source": [
    "#### CF"
   ]
  },
  {
   "cell_type": "code",
   "execution_count": null,
   "metadata": {},
   "outputs": [],
   "source": [
    "CF_gradients = np.load('input_gradients_CF_256_0.3_0.0001_1e-05_fold_0.npy')"
   ]
  },
  {
   "cell_type": "code",
   "execution_count": null,
   "metadata": {},
   "outputs": [],
   "source": [
    "import pickle\n",
    "\n",
    "# Save CF_gradients to a file\n",
    "with open('CF_gradients.pkl', 'wb') as f:\n",
    "    pickle.dump(CF_gradients, f)"
   ]
  },
  {
   "cell_type": "code",
   "execution_count": null,
   "metadata": {},
   "outputs": [],
   "source": [
    "# import pickle\n",
    "\n",
    "# # Load CF_gradients from the file\n",
    "# with open('CF_gradients.pkl', 'rb') as f:\n",
    "#     CF_gradients = pickle.load(f)\n",
    "\n",
    "# # Now, you can run just `CF_gradients` to see its content\n",
    "# CF_gradients"
   ]
  },
  {
   "cell_type": "code",
   "execution_count": null,
   "metadata": {},
   "outputs": [],
   "source": [
    "mean_CF_gradients = np.mean(CF_gradients, axis=0)\n",
    "\n",
    "mean_gradients_abs = np.abs(mean_CF_gradients)\n",
    "mean_gradients_abs = mean_gradients_abs.squeeze(0)"
   ]
  },
  {
   "cell_type": "code",
   "execution_count": null,
   "metadata": {},
   "outputs": [],
   "source": [
    "from sklearn.discriminant_analysis import StandardScaler\n",
    "\n",
    "scaler = StandardScaler()\n",
    "mean_gradients_normalized = scaler.fit_transform(mean_gradients_abs.reshape(-1, 1)).reshape(mean_gradients_abs.shape)"
   ]
  },
  {
   "cell_type": "code",
   "execution_count": null,
   "metadata": {},
   "outputs": [],
   "source": [
    "overlay_data = mean_gradients_normalized"
   ]
  },
  {
   "cell_type": "code",
   "execution_count": null,
   "metadata": {},
   "outputs": [],
   "source": [
    "import nibabel as nib\n",
    "import numpy as np\n",
    "\n",
    "reference_img = nib.load('/data/neuromark2/Data/ABCD/DTI_Data_BIDS/Raw_Data/NDARINV00R4TXET/Baseline/dti/dti_FA/tbdti32ch_FA.nii.gz')\n",
    "affine = reference_img.affine\n",
    "\n",
    "nii_image = nib.Nifti1Image(overlay_data, affine)\n",
    "\n",
    "nib.save(nii_image, 'cbcl_CF_mean_gradients_normalized_finalised.nii')\n",
    "\n",
    "print(\"NIfTI file 'cbcl_CF_mean_gradients_normalized_finalised.nii' has been created.\")"
   ]
  }
 ],
 "metadata": {
  "kernelspec": {
   "display_name": "Python 3",
   "language": "python",
   "name": "python3"
  },
  "language_info": {
   "codemirror_mode": {
    "name": "ipython",
    "version": 3
   },
   "file_extension": ".py",
   "mimetype": "text/x-python",
   "name": "python",
   "nbconvert_exporter": "python",
   "pygments_lexer": "ipython3",
   "version": "3.11.5"
  }
 },
 "nbformat": 4,
 "nbformat_minor": 2
}
